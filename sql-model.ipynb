{
 "cells": [
  {
   "cell_type": "markdown",
   "metadata": {},
   "source": [
    "MySql tutorial"
   ]
  },
  {
   "cell_type": "code",
   "execution_count": 10,
   "metadata": {},
   "outputs": [
    {
     "data": {
      "text/plain": [
       "True"
      ]
     },
     "execution_count": 10,
     "metadata": {},
     "output_type": "execute_result"
    }
   ],
   "source": [
    "#\n",
    "from sqlalchemy import (\n",
    "    create_engine,\n",
    "    text,\n",
    ")\n",
    "from llama_index.core import SQLDatabase, Settings\n",
    "from llama_index.llms.openai import OpenAI\n",
    "import os\n",
    "from dotenv import load_dotenv\n",
    "\n",
    "load_dotenv()"
   ]
  },
  {
   "cell_type": "code",
   "execution_count": 11,
   "metadata": {},
   "outputs": [],
   "source": [
    "db_user_name = \"root\"\n",
    "db_password = os.getenv(\"SQL_DB_KEY\")\n",
    "db_host = \"localhost:3306\"\n",
    "db_name = \"demo_db\"\n",
    "\n",
    "connection_url = f\"mysql+pymysql://{db_user_name}:{db_password}@{db_host}/{db_name}\"\n",
    "\n",
    "engine = create_engine(connection_url)"
   ]
  },
  {
   "cell_type": "code",
   "execution_count": 12,
   "metadata": {},
   "outputs": [
    {
     "name": "stdout",
     "output_type": "stream",
     "text": [
      "(1, datetime.date(2005, 2, 10), 1643690.0, 0, 42.31, 2.572, 211.096, 8.106)\n",
      "(1, datetime.date(2012, 2, 10), 1641960.0, 1, 38.51, 2.548, 211.242, 8.106)\n",
      "(1, datetime.date(2019, 2, 10), 1611970.0, 0, 39.93, 2.514, 211.289, 8.106)\n",
      "('Store', 'int', 'NO', '', None, '')\n",
      "('Date', 'date', 'NO', '', None, '')\n",
      "('Weekly_Sales', 'float', 'YES', '', None, '')\n",
      "('Holiday_Flag', 'tinyint', 'YES', '', None, '')\n",
      "('Temperature', 'float', 'YES', '', None, '')\n",
      "('Fuel_Price', 'float', 'YES', '', None, '')\n",
      "('CPI', 'float', 'YES', '', None, '')\n",
      "('Unemployment', 'float', 'YES', '', None, '')\n"
     ]
    }
   ],
   "source": [
    "with engine.connect() as connection:\n",
    "    result = connection.execute(text(\"SELECT * from walmart limit 3\"))\n",
    "    for three_results in result:\n",
    "        print(three_results)\n",
    "\n",
    "with engine.connect() as connection:\n",
    "    result = connection.execute(text(\"describe walmart\"))\n",
    "    for description in result:\n",
    "        print(description)"
   ]
  },
  {
   "cell_type": "code",
   "execution_count": 17,
   "metadata": {},
   "outputs": [],
   "source": [
    "llm = OpenAI(\n",
    "    temperature=0.1,\n",
    "    model=\"gpt-4o-mini\",\n",
    "    max_tokens=350,\n",
    "    api_key=os.getenv(\"OPENAI_API_KEY\"),\n",
    ")"
   ]
  },
  {
   "cell_type": "code",
   "execution_count": 14,
   "metadata": {},
   "outputs": [],
   "source": [
    "sql_database = SQLDatabase(engine=engine, include_tables=[\"walmart\"])"
   ]
  },
  {
   "cell_type": "code",
   "execution_count": 19,
   "metadata": {},
   "outputs": [
    {
     "name": "stdout",
     "output_type": "stream",
     "text": [
      "On October 11, 2007, the weekly sales and temperatures recorded, sorted from the lowest price to the highest, are as follows:\n",
      "\n",
      "1. Weekly Sales: $525,866.0, Temperature: 40.65°F\n",
      "2. Weekly Sales: $954,069.0, Temperature: 60.42°F\n",
      "3. Weekly Sales: $206,723.0, Temperature: 60.62°F\n",
      "4. Weekly Sales: $312,577.0, Temperature: 60.62°F\n",
      "5. Weekly Sales: $1,146,450.0, Temperature: 62.62°F\n",
      "6. Weekly Sales: $1,478,740.0, Temperature: 74.1°F\n",
      "7. Weekly Sales: $1,346,270.0, Temperature: 76.97°F\n",
      "8. Weekly Sales: $2,131,980.0, Temperature: 52.42°F\n",
      "9. Weekly Sales: $1,678,340.0, Temperature: 56.91°F\n",
      "10. Weekly Sales: $1,407,910.0, Temperature: 53.87°F\n",
      "\n",
      "This data reflects a range of sales figures and temperatures, highlighting the variations experienced on that date.\n"
     ]
    }
   ],
   "source": [
    "from llama_index.core.query_engine import NLSQLTableQueryEngine\n",
    "\n",
    "query_engine = NLSQLTableQueryEngine(\n",
    "    llm=llm,\n",
    "    sql_database=sql_database,\n",
    "    tables=[\"walmart\"],\n",
    ")\n",
    "\n",
    "query_str = \"show me the weekly sales and temperature that happened during this date 2007-10-11 from lowest price to highest\"\n",
    "\n",
    "response = query_engine.query(query_str)\n",
    "\n",
    "print(response)"
   ]
  }
 ],
 "metadata": {
  "kernelspec": {
   "display_name": ".venv",
   "language": "python",
   "name": "python3"
  },
  "language_info": {
   "codemirror_mode": {
    "name": "ipython",
    "version": 3
   },
   "file_extension": ".py",
   "mimetype": "text/x-python",
   "name": "python",
   "nbconvert_exporter": "python",
   "pygments_lexer": "ipython3",
   "version": "3.12.4"
  }
 },
 "nbformat": 4,
 "nbformat_minor": 2
}
